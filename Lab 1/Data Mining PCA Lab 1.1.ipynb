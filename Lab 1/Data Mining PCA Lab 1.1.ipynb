{
 "cells": [
  {
   "cell_type": "code",
   "execution_count": 1,
   "id": "428b619b",
   "metadata": {},
   "outputs": [
    {
     "name": "stdout",
     "output_type": "stream",
     "text": [
      "[[ 0.51880973 -0.32853843]\n",
      " [ 0.00385287  0.02704394]\n",
      " [ 0.81171251 -0.87277304]\n",
      " [ 0.35380298  1.66031202]\n",
      " [ 0.60938785 -0.41500565]\n",
      " [ 1.625182   -0.09916273]\n",
      " [ 0.82540345  0.60731522]\n",
      " [-1.48354269 -0.95550161]\n",
      " [-0.39447998  0.71326706]\n",
      " [ 2.53815984 -0.54449554]\n",
      " [ 0.87451044 -0.18561765]\n",
      " [-2.86299856 -0.95268715]\n",
      " [-1.18911826 -0.31388635]\n",
      " [ 0.50603621 -0.47921103]\n",
      " [ 0.93293498 -0.47089027]\n",
      " [-1.49898393  0.45701961]\n",
      " [ 0.84740046 -0.70929063]\n",
      " [ 1.01943465 -0.56286668]\n",
      " [ 0.09450069  0.36347824]\n",
      " [ 0.55603047 -0.04478192]]\n"
     ]
    }
   ],
   "source": [
    "#Dimensionality Reduction using Principle Component Analysis (PCA).\n",
    "\n",
    "import numpy as np\n",
    "import matplotlib.pyplot as plt\n",
    "import numpy.random as rnd\n",
    "\n",
    "rng = np.random.RandomState(0)\n",
    "\n",
    "w = rnd.randn(20,2)\n",
    "\n",
    "print(w)"
   ]
  },
  {
   "cell_type": "code",
   "execution_count": 2,
   "id": "938965e5",
   "metadata": {},
   "outputs": [
    {
     "name": "stdout",
     "output_type": "stream",
     "text": [
      "[ 0.23440179 -0.15531363]\n"
     ]
    }
   ],
   "source": [
    "print(w.mean(axis=0))"
   ]
  },
  {
   "cell_type": "code",
   "execution_count": 3,
   "id": "19d93d52",
   "metadata": {},
   "outputs": [
    {
     "name": "stdout",
     "output_type": "stream",
     "text": [
      "[1.41356687 0.40342838]\n"
     ]
    }
   ],
   "source": [
    "print(w.var(axis=0))"
   ]
  },
  {
   "cell_type": "code",
   "execution_count": 4,
   "id": "94114246",
   "metadata": {},
   "outputs": [
    {
     "data": {
      "image/png": "[encoded data removed]",
      "text/plain": [
       "<Figure size 432x288 with 1 Axes>"
      ]
     },
     "metadata": {
      "needs_background": "light"
     },
     "output_type": "display_data"
    }
   ],
   "source": [
    "plt.scatter(w[:,0],w[:,1])\n",
    "plt.axis('equal')\n",
    "plt.grid(True)"
   ]
  },
  {
   "cell_type": "code",
   "execution_count": 5,
   "id": "dff4f6bd",
   "metadata": {},
   "outputs": [
    {
     "name": "stdout",
     "output_type": "stream",
     "text": [
      "[[0.01817666 0.25711835]\n",
      " [0.60212633 0.92360639]]\n"
     ]
    }
   ],
   "source": [
    "#Above data looks uncorreletae so PCA cant be applied\n",
    "\n",
    "A = rnd.rand(2,2)\n",
    "print(A)"
   ]
  },
  {
   "cell_type": "code",
   "execution_count": 6,
   "id": "529229d2",
   "metadata": {},
   "outputs": [
    {
     "name": "stdout",
     "output_type": "stream",
     "text": [
      "[[-0.18839141 -0.17004469]\n",
      " [ 0.0163539   0.0259686 ]\n",
      " [-0.51076541 -0.59739257]\n",
      " [ 1.00614853  1.62444402]\n",
      " [-0.23880919 -0.22661707]\n",
      " [-0.03016811  0.32627679]\n",
      " [ 0.38068356  0.77314659]\n",
      " [-0.60229852 -1.26395344]\n",
      " [ 0.42230655  0.55734996]\n",
      " [-0.28171984  0.14970792]\n",
      " [-0.0958696   0.05341504]\n",
      " [-0.62567775 -1.61603741]\n",
      " [-0.21061343 -0.59565157]\n",
      " [-0.27934753 -0.31249117]\n",
      " [-0.26657779 -0.19504256]\n",
      " [ 0.24793702  0.03668995]\n",
      " [-0.41167966 -0.43722315]\n",
      " [-0.32038694 -0.2577519 ]\n",
      " [ 0.22057752  0.36000869]\n",
      " [-0.0168576   0.10160477]]\n"
     ]
    }
   ],
   "source": [
    "B = np.matmul(w,A) \n",
    "\n",
    "print(B)"
   ]
  },
  {
   "cell_type": "code",
   "execution_count": 7,
   "id": "ae78d091",
   "metadata": {},
   "outputs": [
    {
     "data": {
      "image/png": "[encoded data removed]",
      "text/plain": [
       "<Figure size 432x288 with 1 Axes>"
      ]
     },
     "metadata": {
      "needs_background": "light"
     },
     "output_type": "display_data"
    }
   ],
   "source": [
    "plt.scatter(B[:,0],B[:,1])\n",
    "plt.axis('equal')\n",
    "plt.grid(True)"
   ]
  },
  {
   "cell_type": "code",
   "execution_count": 8,
   "id": "5cecebdc",
   "metadata": {},
   "outputs": [
    {
     "name": "stdout",
     "output_type": "stream",
     "text": [
      "[[0.15524358 0.24930061]\n",
      " [0.24930061 0.47773185]]\n"
     ]
    }
   ],
   "source": [
    "B = np.transpose(B)\n",
    "covariance = np.cov(B)\n",
    "print(covariance)"
   ]
  },
  {
   "cell_type": "code",
   "execution_count": 9,
   "id": "63572052",
   "metadata": {},
   "outputs": [
    {
     "name": "stdout",
     "output_type": "stream",
     "text": [
      "[0.01958628 0.61338915]\n",
      "[[-0.87837628 -0.47796978]\n",
      " [ 0.47796978 -0.87837628]]\n"
     ]
    }
   ],
   "source": [
    "eigenvalue, eigenvector = np.linalg.eig(covariance)\n",
    "\n",
    "print(eigenvalue)\n",
    "print(eigenvector)"
   ]
  },
  {
   "cell_type": "code",
   "execution_count": 10,
   "id": "54a261f3",
   "metadata": {},
   "outputs": [
    {
     "name": "stdout",
     "output_type": "stream",
     "text": [
      "[[ 8.42023262e-02  2.39408625e-01]\n",
      " [-1.95267247e-03 -3.06268736e-02]\n",
      " [ 1.63108626e-01  7.68865895e-01]\n",
      " [-1.07341860e-01 -1.90778169e+00]\n",
      " [ 1.01448224e-01  3.13198633e-01]\n",
      " [ 1.82449401e-01 -2.72174349e-01]\n",
      " [ 3.51572962e-02 -8.61068860e-01]\n",
      " [-7.50868108e-02  1.39810721e+00]\n",
      " [-1.04547616e-01 -6.91412754e-01]\n",
      " [ 3.19011889e-01  3.15368253e-03]\n",
      " [ 1.09740355e-01 -1.09573795e-03]\n",
      " [-2.22836542e-01  1.71854399e+00]\n",
      " [-9.97056056e-02  6.23873065e-01]\n",
      " [ 9.60109114e-02  4.08004510e-01]\n",
      " [ 1.40931162e-01  2.98736882e-01]\n",
      " [-2.00245314e-01 -1.50733986e-01]\n",
      " [ 1.52630197e-01  5.80816875e-01]\n",
      " [ 1.58222666e-01  3.79538431e-01]\n",
      " [-2.16767945e-02 -4.21652482e-01]\n",
      " [ 6.33713249e-02 -8.11897964e-02]]\n"
     ]
    },
    {
     "data": {
      "image/png": "[encoded data removed]",
      "text/plain": [
       "<Figure size 432x288 with 1 Axes>"
      ]
     },
     "metadata": {
      "needs_background": "light"
     },
     "output_type": "display_data"
    }
   ],
   "source": [
    "eigenvec_T = np.transpose(eigenvector)\n",
    "Y = np.matmul(eigenvec_T,B)\n",
    "Y = np.transpose(Y)\n",
    "\n",
    "plt.scatter(Y[:,0],Y[:,1])\n",
    "plt.axis('equal')\n",
    "plt.grid(True)\n",
    "print(Y)"
   ]
  },
  {
   "cell_type": "code",
   "execution_count": 11,
   "id": "c0937045",
   "metadata": {},
   "outputs": [
    {
     "name": "stdout",
     "output_type": "stream",
     "text": [
      "[[ 1.95862755e-02 -1.63193794e-17]\n",
      " [-1.63193794e-17  6.13389154e-01]]\n"
     ]
    }
   ],
   "source": [
    "covariance_2 = np.cov(np.transpose(Y))\n",
    "print(covariance_2)"
   ]
  },
  {
   "cell_type": "code",
   "execution_count": 12,
   "id": "7fb39bc3",
   "metadata": {},
   "outputs": [
    {
     "name": "stdout",
     "output_type": "stream",
     "text": [
      "[96.90568155  3.09431845]\n"
     ]
    }
   ],
   "source": [
    "sorted_eign = np.sort(eigenvalue)[::-1]\n",
    "print(sorted_eign/np.sum(sorted_eign)*100)\n"
   ]
  },
  {
   "cell_type": "code",
   "execution_count": 13,
   "id": "46f2fb62",
   "metadata": {},
   "outputs": [
    {
     "name": "stdout",
     "output_type": "stream",
     "text": [
      "[ 0.08420233 -0.00195267  0.16310863 -0.10734186  0.10144822  0.1824494\n",
      "  0.0351573  -0.07508681 -0.10454762  0.31901189  0.10974035 -0.22283654\n",
      " -0.09970561  0.09601091  0.14093116 -0.20024531  0.1526302   0.15822267\n",
      " -0.02167679  0.06337132]\n",
      "(20,)\n"
     ]
    },
    {
     "data": {
      "image/png": "[encoded data removed]",
      "text/plain": [
       "<Figure size 432x288 with 1 Axes>"
      ]
     },
     "metadata": {
      "needs_background": "light"
     },
     "output_type": "display_data"
    }
   ],
   "source": [
    "new_eigenvector = eigenvec_T[0,:]\n",
    "Y = np.matmul(new_eigenvector,B)\n",
    "\n",
    "plt.scatter(Y,np.zeros(20))\n",
    "plt.axis('equal')\n",
    "plt.grid(True)\n",
    "\n",
    "print(Y)\n",
    "print(Y.shape)"
   ]
  },
  {
   "cell_type": "code",
   "execution_count": null,
   "id": "fbb48587",
   "metadata": {},
   "outputs": [],
   "source": []
  }
 ],
 "metadata": {
  "kernelspec": {
   "display_name": "Python 3 (ipykernel)",
   "language": "python",
   "name": "python3"
  },
  "language_info": {
   "codemirror_mode": {
    "name": "ipython",
    "version": 3
   },
   "file_extension": ".py",
   "mimetype": "text/x-python",
   "name": "python",
   "nbconvert_exporter": "python",
   "pygments_lexer": "ipython3",
   "version": "3.9.12"
  }
 },
 "nbformat": 4,
 "nbformat_minor": 5
}
